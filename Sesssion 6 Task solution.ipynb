{
 "cells": [
  {
   "cell_type": "code",
   "execution_count": 2,
   "id": "e0886b08",
   "metadata": {},
   "outputs": [
    {
     "data": {
      "text/plain": [
       "[1, 2, 3, 4, 5]"
      ]
     },
     "execution_count": 2,
     "metadata": {},
     "output_type": "execute_result"
    }
   ],
   "source": [
    "#  Write a Python function that takes a list and returns a new list with unique elements of the first list.\n",
    "# Exercise 1:\n",
    "\n",
    "def return_unique(l):\n",
    "    res=[]\n",
    "    for i in l:\n",
    "        if i not in res:\n",
    "            res.append(i)\n",
    "    return res\n",
    "l= [1,2,3,3,3,3,4,5]\n",
    "return_unique(l)\n",
    "        \n",
    "        "
   ]
  },
  {
   "cell_type": "code",
   "execution_count": 7,
   "id": "4b567bcf",
   "metadata": {},
   "outputs": [
    {
     "data": {
      "text/plain": [
       "'black-green-red-white-yellow'"
      ]
     },
     "execution_count": 7,
     "metadata": {},
     "output_type": "execute_result"
    }
   ],
   "source": [
    "# problem2\n",
    "\n",
    "def sort_sequence(seq):\n",
    "  temp = []\n",
    "\n",
    "  for i in sorted(seq.split('-')):\n",
    "    temp.append(i)\n",
    "\n",
    "  return \"-\".join(temp)\n",
    "\n",
    "s = 'green-red-yellow-black-white'\n",
    "sort_sequence(s)\n",
    "        "
   ]
  },
  {
   "cell_type": "code",
   "execution_count": 12,
   "id": "0323b820",
   "metadata": {},
   "outputs": [
    {
     "data": {
      "text/plain": [
       "(47, 18)"
      ]
     },
     "execution_count": 12,
     "metadata": {},
     "output_type": "execute_result"
    }
   ],
   "source": [
    "#problem3\n",
    "def lower_upper(s):\n",
    "    lower_count=0\n",
    "    upper_count=0\n",
    "    for i in s:\n",
    "        if i.islower():\n",
    "            lower_count+=1\n",
    "        else:\n",
    "            upper_count+=1\n",
    "    return lower_count,upper_count        \n",
    "s='CampusX is an Online Mentorship Program fOr EnginEering studentS.'\n",
    "lower_upper(s)\n",
    "\n"
   ]
  },
  {
   "cell_type": "code",
   "execution_count": 4,
   "id": "868a6dae",
   "metadata": {},
   "outputs": [
    {
     "data": {
      "text/plain": [
       "[2, 4, 6, 8]"
      ]
     },
     "execution_count": 4,
     "metadata": {},
     "output_type": "execute_result"
    }
   ],
   "source": [
    "# Write a Python program to print the even numbers from a given list\n",
    "def even():\n",
    "    Lst=[1, 2, 3, 4, 5, 6, 7, 8, 9] \n",
    "    lst=[]\n",
    "    for i in Lst:\n",
    "         if i%2==0:\n",
    "            lst.append(i)\n",
    "    return lst        \n",
    "even()\n",
    "\n",
    "\n",
    "        "
   ]
  },
  {
   "cell_type": "code",
   "execution_count": 7,
   "id": "47d525cc",
   "metadata": {},
   "outputs": [
    {
     "data": {
      "text/plain": [
       "{1: 10, 2: 20, 3: 30, 4: 40, 5: 50, 6: 60}"
      ]
     },
     "execution_count": 7,
     "metadata": {},
     "output_type": "execute_result"
    }
   ],
   "source": [
    "def merge(*kwargs):\n",
    "    d={}\n",
    "    for i in kwargs:\n",
    "        d.update(i)\n",
    "    return d\n",
    "dict1={1:10, 2:20}\n",
    "dict2={3:30, 4:40}\n",
    "dict3={5:50,6:60}\n",
    "merge(dict1,dict2,dict3)"
   ]
  },
  {
   "cell_type": "code",
   "execution_count": 2,
   "id": "ac392469",
   "metadata": {},
   "outputs": [],
   "source": [
    "#  Write a python function that accepts a string as input and returns the word with most occurence.\n",
    "def most_used(s):\n",
    "\n",
    "  d = {}\n",
    "  for i in s.split():\n",
    "    if i in d:\n",
    "      d[i] = d[i] + 1\n",
    "    else:\n",
    "      d[i] = 1\n",
    "\n",
    "  max_val = max(d.values())\n",
    "\n",
    "  for i in d:\n",
    "    if d[i] == max_val:\n",
    "      print(i,'->',d[i])\n",
    "      break            "
   ]
  },
  {
   "cell_type": "code",
   "execution_count": 2,
   "id": "3f4d4fcc",
   "metadata": {},
   "outputs": [
    {
     "data": {
      "text/plain": [
       "{'11-20': 2, '21-30': 1, '31-40': 2, '41-50': 3}"
      ]
     },
     "execution_count": 2,
     "metadata": {},
     "output_type": "execute_result"
    }
   ],
   "source": [
    "# Write a python function that receives a list of integers and prints out a histogram of bin size 1\n",
    "import math\n",
    "\n",
    "def histogram(L):\n",
    "\n",
    "  min_bin = math.floor(min(L)/10)*10\n",
    "  max_bin = math.ceil(max(L)/10)*10\n",
    "\n",
    "  d={}\n",
    "\n",
    "  for i in range(min_bin,max_bin,10):\n",
    "    count = 0\n",
    "    for j in L:\n",
    "      if i+1<=j<=i+10:\n",
    "        count+=1\n",
    "\n",
    "    d[str(i+1) + '-' + str(i+10)] = count\n",
    "\n",
    "  return d\n",
    "\n",
    "histogram([13,42,15,37,22,39,41,50])\n",
    "\n"
   ]
  },
  {
   "cell_type": "code",
   "execution_count": 3,
   "id": "9ef75b6a",
   "metadata": {},
   "outputs": [
    {
     "data": {
      "text/plain": [
       "(2, -2)"
      ]
     },
     "execution_count": 3,
     "metadata": {},
     "output_type": "execute_result"
    }
   ],
   "source": [
    "# ite a python function that accepts a list of 2D co-ordinates and a query point, and then finds the the co-ordinate which is closest in terms of distance from the query point.\n",
    "\n",
    "# List of Coordinates\n",
    "L=[(1,1),(2,2),(3,3),(4,4)]\n",
    "\n",
    "def shortest_dist(points,query):\n",
    "  temp = []\n",
    "  for i in points:\n",
    "    distance = ((i[0] - query[0])**2 + (i[1] - query[1])**2)**0.5\n",
    "    temp.append(distance)\n",
    "\n",
    "  return points[sorted(list(enumerate(temp)),key=lambda x:x[1])[0][0]]\n",
    "\n",
    "\n",
    "points = [(1,4),(2,-2),(13,3),(14,4)]\n",
    "query = (0,0)\n",
    "\n",
    "shortest_dist(points,query)"
   ]
  },
  {
   "cell_type": "code",
   "execution_count": 4,
   "id": "1c556aee",
   "metadata": {},
   "outputs": [
    {
     "name": "stdout",
     "output_type": "stream",
     "text": [
      "{'pat', 'bat', 'fat', 'sat', 'rat', 'mat', 'cat'}\n"
     ]
    },
    {
     "data": {
      "text/plain": [
       "[[0, 0, 0, 0, 1, 1, 2], [0, 1, 1, 1, 1, 0, 1], [1, 0, 0, 0, 1, 1, 1]]"
      ]
     },
     "execution_count": 4,
     "metadata": {},
     "output_type": "execute_result"
    }
   ],
   "source": [
    "def bow(L):\n",
    "\n",
    "  vocab = set()\n",
    "\n",
    "  for i in L:\n",
    "    vocab.update(i.split())\n",
    "\n",
    "  result = []\n",
    "\n",
    "  for i in L:\n",
    "    result.append([])\n",
    "    for j in vocab:\n",
    "      result[-1].append(i.count(j))\n",
    "\n",
    "  print(vocab)\n",
    "  return result\n",
    "\n",
    "\n",
    "L = [\n",
    "    'cat mat rat cat',\n",
    "     'sat bat fat cat rat',\n",
    "     'pat cat mat rat'\n",
    "]\n",
    "\n",
    "bow(L)\n",
    "\n",
    "\n"
   ]
  }
 ],
 "metadata": {
  "kernelspec": {
   "display_name": "Python 3 (ipykernel)",
   "language": "python",
   "name": "python3"
  },
  "language_info": {
   "codemirror_mode": {
    "name": "ipython",
    "version": 3
   },
   "file_extension": ".py",
   "mimetype": "text/x-python",
   "name": "python",
   "nbconvert_exporter": "python",
   "pygments_lexer": "ipython3",
   "version": "3.11.5"
  }
 },
 "nbformat": 4,
 "nbformat_minor": 5
}
