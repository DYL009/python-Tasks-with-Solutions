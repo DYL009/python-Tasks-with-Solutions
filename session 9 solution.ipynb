{
 "cells": [
  {
   "cell_type": "code",
   "execution_count": 2,
   "id": "67e3af36",
   "metadata": {},
   "outputs": [
    {
     "name": "stdout",
     "output_type": "stream",
     "text": [
      "5500.0\n"
     ]
    }
   ],
   "source": [
    "#problem1\n",
    "\n",
    "class Vehicle:\n",
    "    def __init__(self,type,capecity):\n",
    "        self.type=type\n",
    "        self.capecity=capecity\n",
    "    def fare(self):\n",
    "        return 100*self.capecity\n",
    "class Bus(Vehicle):\n",
    "    def fare(self):\n",
    "        base_fare=super().fare()\n",
    "        bus_fare=base_fare +0.1*base_fare\n",
    "        return bus_fare\n",
    "bus=Bus('school bus',50)\n",
    "print(bus.fare())\n",
    "        "
   ]
  },
  {
   "cell_type": "code",
   "execution_count": 3,
   "id": "ef790418",
   "metadata": {},
   "outputs": [
    {
     "name": "stdout",
     "output_type": "stream",
     "text": [
      "source is 0,0\n",
      "destination is 1,1\n",
      "Relection is 1,-1\n"
     ]
    }
   ],
   "source": [
    "# Write code here\n",
    "class Point:\n",
    "\n",
    "  def __init__(self,x,y):\n",
    "    self.x = x\n",
    "    self.y = y\n",
    "\n",
    "  def show_point(self):\n",
    "    return '{},{}'.format(self.x,self.y)\n",
    "\n",
    "class Location:\n",
    "\n",
    "  def __init__(self,x1,y1,x2,y2):\n",
    "    self.source = Point(x1,y1)\n",
    "    self.destination = Point(x2,y2)\n",
    "\n",
    "  def show(self):\n",
    "    print('source is',self.source.show_point())\n",
    "    print('destination is',self.destination.show_point())\n",
    "\n",
    "  def reflection(self):\n",
    "    self.destination.y = -self.destination.y\n",
    "    print('Relection is',self.destination.show_point())\n",
    "\n",
    "L = Location(0,0,1,1)\n",
    "L.show()\n",
    "L.reflection()\n",
    "        "
   ]
  },
  {
   "cell_type": "code",
   "execution_count": 4,
   "id": "e0411045",
   "metadata": {},
   "outputs": [
    {
     "name": "stdout",
     "output_type": "stream",
     "text": [
      "20\n"
     ]
    },
    {
     "data": {
      "text/plain": [
       "10.0"
      ]
     },
     "execution_count": 4,
     "metadata": {},
     "output_type": "execute_result"
    }
   ],
   "source": [
    "# Write code here\n",
    "from abc import ABC,abstractmethod\n",
    "\n",
    "class Polygon(ABC):\n",
    "\n",
    "  @abstractmethod\n",
    "  def get_data():\n",
    "    pass\n",
    "\n",
    "  @abstractmethod\n",
    "  def area():\n",
    "    pass\n",
    "\n",
    "class Rectangle(Polygon):\n",
    "\n",
    "  def get_data(self,l,b):\n",
    "    self.l = l\n",
    "    self.b = b\n",
    "\n",
    "  def area(self):\n",
    "    return self.l*self.b\n",
    "\n",
    "class Triangle(Polygon):\n",
    "\n",
    "  def get_data(self,b,h):\n",
    "    self.b = b\n",
    "    self.h = h\n",
    "\n",
    "  def area(self):\n",
    "    return 0.5 * self.b*self.h\n",
    "\n",
    "rect = Rectangle()\n",
    "rect.get_data(4,5)\n",
    "print(rect.area())\n",
    "\n",
    "tri = Triangle()\n",
    "tri.get_data(4,5)\n",
    "tri.area()"
   ]
  },
  {
   "cell_type": "code",
   "execution_count": null,
   "id": "d406c0c7",
   "metadata": {},
   "outputs": [],
   "source": []
  }
 ],
 "metadata": {
  "kernelspec": {
   "display_name": "Python 3 (ipykernel)",
   "language": "python",
   "name": "python3"
  },
  "language_info": {
   "codemirror_mode": {
    "name": "ipython",
    "version": 3
   },
   "file_extension": ".py",
   "mimetype": "text/x-python",
   "name": "python",
   "nbconvert_exporter": "python",
   "pygments_lexer": "ipython3",
   "version": "3.11.5"
  }
 },
 "nbformat": 4,
 "nbformat_minor": 5
}
