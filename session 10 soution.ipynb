{
 "cells": [
  {
   "cell_type": "code",
   "execution_count": 9,
   "id": "727e7651",
   "metadata": {},
   "outputs": [
    {
     "data": {
      "text/plain": [
       "'hello world\\n'"
      ]
     },
     "execution_count": 9,
     "metadata": {},
     "output_type": "execute_result"
    }
   ],
   "source": [
    "def get_final_line(filename):\n",
    "#     final_lne=' '\n",
    "    for current_line in open(filename,'r'):\n",
    "        return current_line\n",
    "#     return final_line\n",
    "get_final_line('ds.txt')"
   ]
  },
  {
   "cell_type": "code",
   "execution_count": 19,
   "id": "922d977b",
   "metadata": {},
   "outputs": [
    {
     "data": {
      "text/plain": [
       "{'a': 1, 'e': 2, 'i': 2, 'o': 3, 'u': 1}"
      ]
     },
     "execution_count": 19,
     "metadata": {},
     "output_type": "execute_result"
    }
   ],
   "source": [
    "def vowel_count_table(filename):\n",
    "    vowels = ['a', 'e', 'i', 'o', 'u']\n",
    "    d={i:0 for i in vowels}\n",
    "    for current_line in open(filename, 'r'):\n",
    "        for ch in current_line:\n",
    "            if ch in vowels:\n",
    "                d[ch] += 1\n",
    "    return d\n",
    "vowel_count_table(\"ds.txt\")"
   ]
  },
  {
   "cell_type": "code",
   "execution_count": 24,
   "id": "d0392888",
   "metadata": {},
   "outputs": [
    {
     "data": {
      "text/plain": [
       "12"
      ]
     },
     "execution_count": 24,
     "metadata": {},
     "output_type": "execute_result"
    }
   ],
   "source": [
    "string='data science'\n",
    "def string_lenth(s):\n",
    "    if s=='':\n",
    "        return 0\n",
    "    else:\n",
    "        return 1+ string_lenth(s[1:])\n",
    "string_lenth(string)    "
   ]
  },
  {
   "cell_type": "code",
   "execution_count": 28,
   "id": "d8f9247e",
   "metadata": {},
   "outputs": [
    {
     "data": {
      "text/plain": [
       "1"
      ]
     },
     "execution_count": 28,
     "metadata": {},
     "output_type": "execute_result"
    }
   ],
   "source": [
    "def gcd(a,b):\n",
    "    if a==b:\n",
    "        return a\n",
    "    elif a>b:\n",
    "        return gcd(a-b,b)\n",
    "    else:\n",
    "        return gcd(b-a,a)\n",
    "gcd(5,24)    \n",
    "    "
   ]
  },
  {
   "cell_type": "code",
   "execution_count": null,
   "id": "507339b0",
   "metadata": {},
   "outputs": [],
   "source": []
  }
 ],
 "metadata": {
  "kernelspec": {
   "display_name": "Python 3 (ipykernel)",
   "language": "python",
   "name": "python3"
  },
  "language_info": {
   "codemirror_mode": {
    "name": "ipython",
    "version": 3
   },
   "file_extension": ".py",
   "mimetype": "text/x-python",
   "name": "python",
   "nbconvert_exporter": "python",
   "pygments_lexer": "ipython3",
   "version": "3.11.5"
  }
 },
 "nbformat": 4,
 "nbformat_minor": 5
}
