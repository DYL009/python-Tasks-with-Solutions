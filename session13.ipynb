{
 "cells": [
  {
   "cell_type": "code",
   "execution_count": 1,
   "id": "bf252c74",
   "metadata": {},
   "outputs": [],
   "source": [
    "import numpy as np"
   ]
  },
  {
   "cell_type": "code",
   "execution_count": 5,
   "id": "c82855f2",
   "metadata": {},
   "outputs": [
    {
     "name": "stdout",
     "output_type": "stream",
     "text": [
      "[0. 0. 0. 0. 1. 0. 0. 0. 0. 0.]\n"
     ]
    }
   ],
   "source": [
    "# Create a null vector of size 10 but the fifth value which is 1\n",
    "a=np.zeros(10)\n",
    "a[4]=1\n",
    "print(a)\n"
   ]
  },
  {
   "cell_type": "code",
   "execution_count": 2,
   "id": "043fb3cd",
   "metadata": {},
   "outputs": [
    {
     "name": "stdout",
     "output_type": "stream",
     "text": [
      "enter the number5\n",
      "enter the number8\n",
      "[5 8]\n",
      "0.5285409489587792\n"
     ]
    }
   ],
   "source": [
    "# # Ask user to input two numbers a, b. Write a program to generate a random array of shape (a, b)\n",
    "# and print the array and avg of the array.\n",
    "a=int(input('enter the number'))\n",
    "b=int(input('enter the number'))\n",
    "d=np.array([a,b])\n",
    "print(d)\n",
    "c=np.random.random(d)\n",
    "print(np.mean(c))\n"
   ]
  },
  {
   "cell_type": "code",
   "execution_count": 12,
   "id": "34033fc1",
   "metadata": {},
   "outputs": [
    {
     "name": "stdout",
     "output_type": "stream",
     "text": [
      "[[1 1 1 1 1 1 1]\n",
      " [1 0 0 0 0 0 1]\n",
      " [1 0 0 0 0 0 1]\n",
      " [1 0 0 0 0 0 1]\n",
      " [1 1 1 1 1 1 1]]\n"
     ]
    }
   ],
   "source": [
    "# Write a function to create a 2d array with 1 on the border and 0 inside.\n",
    "# Take 2-D array shape as (a,b) as parameter to function.\n",
    "def create_border_array(a, b):\n",
    "    # Initialize the array with zeros\n",
    "    array = np.zeros((a, b), dtype=int)\n",
    "    \n",
    "    # Set the borders to 1 using slicing\n",
    "    array[0, :] = 1\n",
    "    array[-1, :] = 1\n",
    "    array[:, 0] = 1\n",
    "    array[:, -1] = 1\n",
    "    \n",
    "    return array\n",
    "\n",
    "# Example usage\n",
    "a = 5\n",
    "b = 7\n",
    "border_array = create_border_array(a, b)\n",
    "print(border_array)"
   ]
  },
  {
   "cell_type": "code",
   "execution_count": 4,
   "id": "d6bc0a64",
   "metadata": {},
   "outputs": [
    {
     "name": "stdout",
     "output_type": "stream",
     "text": [
      "[0.09090909 0.18181818]\n"
     ]
    }
   ],
   "source": [
    "# Create a vector of size 10 with values ranging from 0 to 1, both excluded\n",
    "import numpy as np\n",
    "\n",
    "# Create a vector of size 10 with values ranging from 0 to 1, both excluded\n",
    "vector = np.linspace(0, 1, 12)[1:3]\n",
    "\n",
    "print(vector)"
   ]
  },
  {
   "cell_type": "code",
   "execution_count": 15,
   "id": "27a36b47",
   "metadata": {},
   "outputs": [
    {
     "data": {
      "text/plain": [
       "array([[1., 0., 0.],\n",
       "       [0., 1., 0.],\n",
       "       [0., 0., 1.]])"
      ]
     },
     "execution_count": 15,
     "metadata": {},
     "output_type": "execute_result"
    }
   ],
   "source": [
    "np.eye(3)"
   ]
  },
  {
   "cell_type": "code",
   "execution_count": 23,
   "id": "cf727b9b",
   "metadata": {},
   "outputs": [
    {
     "data": {
      "text/plain": [
       "array([[0., 1., 2., 3., 4.],\n",
       "       [0., 1., 2., 3., 4.],\n",
       "       [0., 1., 2., 3., 4.],\n",
       "       [0., 1., 2., 3., 4.],\n",
       "       [0., 1., 2., 3., 4.]])"
      ]
     },
     "execution_count": 23,
     "metadata": {},
     "output_type": "execute_result"
    }
   ],
   "source": [
    "# create a 5x5 matrix with row values ranging from 0 to 4.\n",
    "z=np.zeros((5,5))\n",
    "z+=np.arange(5)\n",
    "z"
   ]
  },
  {
   "cell_type": "code",
   "execution_count": 33,
   "id": "3cdec057",
   "metadata": {},
   "outputs": [
    {
     "data": {
      "text/plain": [
       "array([ 18,  94,  95, 107,  79,  53,  88, 107,  69,  31])"
      ]
     },
     "execution_count": 33,
     "metadata": {},
     "output_type": "execute_result"
    }
   ],
   "source": [
    "# : Consider a random integer (in range 1 to 100) vector with shape (10,2) representing coordinates, and \n",
    "#     coordinates of a point as array is given. \n",
    "#     Create an array of distance of each point in the random vectros from the given point.\n",
    "#     Distance array should be interger type\n",
    "a=np.random.randint(1,101,(10,2))\n",
    "p=np.array([2,3])\n",
    "np.sqrt(np.sum((a-p)**2,axis=1)).astype(int)"
   ]
  },
  {
   "cell_type": "code",
   "execution_count": 34,
   "id": "73a306cd",
   "metadata": {},
   "outputs": [
    {
     "data": {
      "text/plain": [
       "(1, 5, 4)"
      ]
     },
     "execution_count": 34,
     "metadata": {},
     "output_type": "execute_result"
    }
   ],
   "source": [
    "# Consider a (6,7,8) shape array, \n",
    "# what is the index (x,y,z) of the 100th element?\n",
    "np.unravel_index(100,(6,7,8))"
   ]
  },
  {
   "cell_type": "code",
   "execution_count": 5,
   "id": "9d2d503b",
   "metadata": {},
   "outputs": [
    {
     "data": {
      "text/plain": [
       "2"
      ]
     },
     "execution_count": 5,
     "metadata": {},
     "output_type": "execute_result"
    }
   ],
   "source": [
    "#  Elements count\n",
    "# Count the number of elements of a numpy array.\n",
    "a=np.array([1,2])\n",
    "a.size"
   ]
  },
  {
   "cell_type": "code",
   "execution_count": 6,
   "id": "003cfa96",
   "metadata": {},
   "outputs": [
    {
     "data": {
      "text/plain": [
       "array([2.43733248e-01, 2.56112114e-22, 1.41628283e-17, 7.56266752e-01,\n",
       "       5.05514197e-22, 1.50974911e-22])"
      ]
     },
     "execution_count": 6,
     "metadata": {},
     "output_type": "execute_result"
    }
   ],
   "source": [
    "#Code here\n",
    "def softmax(arr):\n",
    "    if type(arr) != np.ndarray:\n",
    "        raise TypeError(\"Requires Numpy Array\")\n",
    "    elif arr.ndim > 1:\n",
    "        raise TypeError(\"Requires 1D Array\")\n",
    "    s = np.sum(np.exp(arr))\n",
    "    return np.exp(arr)/s\n",
    "softmax(np.array([86.03331084, 37.7285648,  48.64908087, 87.16563062, 38.40852563, 37.20006318]))"
   ]
  },
  {
   "cell_type": "code",
   "execution_count": 7,
   "id": "3b53e0ff",
   "metadata": {},
   "outputs": [
    {
     "name": "stdout",
     "output_type": "stream",
     "text": [
      "[[ 1  2]\n",
      " [ 3  4]\n",
      " [ 5  6]\n",
      " [ 7  8]\n",
      " [ 9 10]]\n"
     ]
    }
   ],
   "source": [
    "import numpy as np\n",
    "\n",
    "def vertical_stack(*arrays):\n",
    "    if not all(isinstance(arr, np.ndarray) for arr in arrays):\n",
    "        raise ValueError(\"All inputs must be numpy arrays\")\n",
    "    \n",
    "    return np.vstack(arrays)\n",
    "\n",
    "# Example usage\n",
    "try:\n",
    "    array1 = np.array([[1, 2], [3, 4]])\n",
    "    array2 = np.array([[5, 6], [7, 8]])\n",
    "    array3 = np.array([[9, 10]])\n",
    "\n",
    "    result = vertical_stack(array1, array2, array3)\n",
    "    print(result)\n",
    "except ValueError as e:\n",
    "    print(e)\n"
   ]
  },
  {
   "cell_type": "code",
   "execution_count": 12,
   "id": "5cfacf0a",
   "metadata": {},
   "outputs": [
    {
     "name": "stdout",
     "output_type": "stream",
     "text": [
      "[[0.46834981 0.70067465 0.34438319 0.81405022]\n",
      " [0.12354288 0.72113703 0.75457052 0.14391747]\n",
      " [0.49734936 0.11791606 0.26209238 0.6670842 ]\n",
      " [0.99818411 0.71546311 0.75804845 0.22300166]\n",
      " [0.32565699 0.09700516 0.49237065 0.09722915]]\n",
      "[[-0.11351465  0.11881018 -0.23748128  0.23218575]\n",
      " [-0.31224909  0.28534505  0.31877855 -0.2918745 ]\n",
      " [ 0.11123886 -0.26819444 -0.12401812  0.2809737 ]\n",
      " [ 0.32450978  0.04178878  0.08437411 -0.45067267]\n",
      " [ 0.0725915  -0.15606033  0.23930517 -0.15583634]]\n"
     ]
    }
   ],
   "source": [
    "# Subtract the mean of each row from a matrix.\n",
    "a=np.random.random((5,4))\n",
    "print(a)\n",
    "v=a-a.mean(axis=1,keepdims= True)\n",
    "print(v)"
   ]
  },
  {
   "cell_type": "code",
   "execution_count": 15,
   "id": "e830c6ae",
   "metadata": {},
   "outputs": [
    {
     "name": "stdout",
     "output_type": "stream",
     "text": [
      "[[0 1 2]\n",
      " [3 4 5]\n",
      " [6 7 8]]\n"
     ]
    },
    {
     "data": {
      "text/plain": [
       "array([[0, 2, 1],\n",
       "       [3, 5, 4],\n",
       "       [6, 8, 7]])"
      ]
     },
     "execution_count": 15,
     "metadata": {},
     "output_type": "execute_result"
    }
   ],
   "source": [
    "a=np.arange(9).reshape((3,3))\n",
    "print(a)\n",
    "a[:,[0,2,1]]"
   ]
  },
  {
   "cell_type": "code",
   "execution_count": null,
   "id": "d743585f",
   "metadata": {},
   "outputs": [],
   "source": []
  }
 ],
 "metadata": {
  "kernelspec": {
   "display_name": "Python 3 (ipykernel)",
   "language": "python",
   "name": "python3"
  },
  "language_info": {
   "codemirror_mode": {
    "name": "ipython",
    "version": 3
   },
   "file_extension": ".py",
   "mimetype": "text/x-python",
   "name": "python",
   "nbconvert_exporter": "python",
   "pygments_lexer": "ipython3",
   "version": "3.11.5"
  }
 },
 "nbformat": 4,
 "nbformat_minor": 5
}
