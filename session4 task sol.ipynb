{
 "cells": [
  {
   "cell_type": "code",
   "execution_count": 1,
   "id": "a92ecfb6",
   "metadata": {},
   "outputs": [
    {
     "name": "stdout",
     "output_type": "stream",
     "text": [
      "[('M', 'y'), ('na', 'me'), ('i', 's'), ('Kh', 'an')]\n"
     ]
    }
   ],
   "source": [
    "# Problem 1: Combine two lists index-wise(columns wise)\n",
    "list1 = [\"M\", \"na\", \"i\", \"Kh\"]\n",
    "list2 = [\"y\", \"me\", \"s\", \"an\"]\n",
    "list3=list(zip(list1,list2))\n",
    "print(list3)"
   ]
  },
  {
   "cell_type": "code",
   "execution_count": 2,
   "id": "bc40dfdb",
   "metadata": {},
   "outputs": [
    {
     "data": {
      "text/plain": [
       "[10, 20, [300, 400, [5000, 6000, 7000], 500], 30, 40]"
      ]
     },
     "execution_count": 2,
     "metadata": {},
     "output_type": "execute_result"
    }
   ],
   "source": [
    "# Problem 2: Add new item to list after a specified item\n",
    "# Write a program to add item 7000 after 6000 in the following Python List\n",
    "list1 = [10, 20, [300, 400, [5000, 6000], 500], 30, 40]\n",
    "list1[2][2].append(7000)\n",
    "list1"
   ]
  },
  {
   "cell_type": "code",
   "execution_count": 6,
   "id": "6df588db",
   "metadata": {},
   "outputs": [
    {
     "name": "stdout",
     "output_type": "stream",
     "text": [
      "Jelly Belly - 10\n",
      "Kit Kat - 20\n",
      "Double Bubble - 34\n",
      "Milky Way - 74\n",
      "Three Musketeers - 32\n"
     ]
    }
   ],
   "source": [
    "###`Problem 3:` Update no of items available\n",
    "candy_list = ['Jelly Belly','Kit Kat','Double Bubble','Milky Way','Three Musketeers']\n",
    "no_of_items = [10,20,34,74,32]\n",
    "for (i,j) in zip(candy_list,no_of_items):\n",
    "    print(i,\"-\",j)\n"
   ]
  },
  {
   "cell_type": "code",
   "execution_count": 7,
   "id": "b37efec2",
   "metadata": {},
   "outputs": [
    {
     "name": "stdout",
     "output_type": "stream",
     "text": [
      "[1, 3, 6, 10, 15, 21]\n"
     ]
    }
   ],
   "source": [
    "#4 Write a program to print a list after performing running sum on it.\n",
    "list1 = [1,2,3,4,5,6]\n",
    "sum=0\n",
    "result=[]\n",
    "for i in list1:\n",
    "    sum=sum+i\n",
    "    result.append(sum)\n",
    "print(result)  "
   ]
  },
  {
   "cell_type": "code",
   "execution_count": 1,
   "id": "8954a943",
   "metadata": {},
   "outputs": [
    {
     "name": "stdout",
     "output_type": "stream",
     "text": [
      "[67, 89, 34]\n"
     ]
    }
   ],
   "source": [
    "# Find list of common unique items from two list. and show in increasing order\n",
    "num1 = [23,45,67,78,89,34]\n",
    "num2 = [34,89,55,56,39,67]\n",
    "common=[]\n",
    "for i in num1:\n",
    "    if i in num2:\n",
    "        if i not in common:\n",
    "            common.append(i)\n",
    "print(common)           \n",
    "            \n",
    "\n"
   ]
  },
  {
   "cell_type": "code",
   "execution_count": 2,
   "id": "2cdd42d4",
   "metadata": {},
   "outputs": [
    {
     "name": "stdout",
     "output_type": "stream",
     "text": [
      "1ac21\n",
      "23fg\n",
      "456\n",
      "098d\n",
      "1\n",
      "kls\n"
     ]
    }
   ],
   "source": [
    "#problem7\n",
    "list3=['1ac21', '23fg', '456', '098d','1','kls']\n",
    "product_value=[]\n",
    "for item in list3:\n",
    "    product=1\n",
    "    print(item)\n",
    "    "
   ]
  },
  {
   "cell_type": "code",
   "execution_count": 5,
   "id": "33516087",
   "metadata": {},
   "outputs": [
    {
     "name": "stdout",
     "output_type": "stream",
     "text": [
      "campux is best channel\n"
     ]
    }
   ],
   "source": [
    "# Convert Character Matrix to single String using string comprehension\n",
    "list5=[['c', 'a', 'm', 'p', 'u', 'x'], ['i', 's'], ['b', 'e', 's', 't'], ['c', 'h', 'a', 'n', 'n', 'e', 'l']]\n",
    "print(' '.join([''.join(i) for i in list5]))"
   ]
  },
  {
   "cell_type": "code",
   "execution_count": 7,
   "id": "21cb8c6d",
   "metadata": {},
   "outputs": [
    {
     "name": "stdout",
     "output_type": "stream",
     "text": [
      "['campusx Is', 'best For', 'data Scientist']\n"
     ]
    }
   ],
   "source": [
    "test_list = [\"campusxIs\", \"bestFor\", \"dataScientist\"]\n",
    " \n",
    "res = []\n",
    "\n",
    "for i in test_list:\n",
    "    temp = [[]]\n",
    "    for char in i:\n",
    "        \n",
    "        if char.isupper():\n",
    "            temp.append([])\n",
    "        \n",
    "        temp[-1].append(char)\n",
    "    \n",
    "    temp_string = \"\"\n",
    "    for item in temp:\n",
    "        temp_string = temp_string + \"\".join(item) + \" \"\n",
    "    res.append(temp_string[0:-1])\n",
    "\n",
    "print(res)\n",
    "    "
   ]
  },
  {
   "cell_type": "code",
   "execution_count": 6,
   "id": "4e584ebc",
   "metadata": {},
   "outputs": [
    {
     "name": "stdout",
     "output_type": "stream",
     "text": [
      "[1, 2, 3, 4, 5, 7, 8]\n"
     ]
    }
   ],
   "source": [
    "#  Write a program that can perform union operation on 2 lists\n",
    "L1 = [1,2,3,4,5,1]\n",
    "L2 = [2,3,5,7,8]\n",
    "\n",
    "union = []\n",
    "\n",
    "for i in L1:\n",
    "  if i not in union:\n",
    "    union.append(i)\n",
    "\n",
    "for j in L2:\n",
    "  if j not in union:\n",
    "    union.append(j)\n",
    "\n",
    "print(union)\n"
   ]
  },
  {
   "cell_type": "code",
   "execution_count": null,
   "id": "de9330fa",
   "metadata": {},
   "outputs": [],
   "source": []
  }
 ],
 "metadata": {
  "kernelspec": {
   "display_name": "Python 3 (ipykernel)",
   "language": "python",
   "name": "python3"
  },
  "language_info": {
   "codemirror_mode": {
    "name": "ipython",
    "version": 3
   },
   "file_extension": ".py",
   "mimetype": "text/x-python",
   "name": "python",
   "nbconvert_exporter": "python",
   "pygments_lexer": "ipython3",
   "version": "3.11.5"
  }
 },
 "nbformat": 4,
 "nbformat_minor": 5
}
