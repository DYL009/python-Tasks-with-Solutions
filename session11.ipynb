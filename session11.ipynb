{
 "cells": [
  {
   "cell_type": "code",
   "execution_count": 1,
   "id": "cf31cf40",
   "metadata": {},
   "outputs": [
    {
     "name": "stdout",
     "output_type": "stream",
     "text": [
      "Result: 452.0\n",
      "Thank you\n"
     ]
    }
   ],
   "source": [
    "# question1\n",
    "# Write code here\n",
    "def function(l: list, s, **args):\n",
    "    last_element = l[-1]\n",
    "    \n",
    "    l[int(s)]=10\n",
    "    any_element = l[int(s)+10]\n",
    "    l[s]=10\n",
    "    \n",
    "    res = sum(l)\n",
    "    \n",
    "    p = args['p']\n",
    "    # print(p)\n",
    "    return res/last_element * p + any_element\n",
    "try:\n",
    "    res = function([1,2,1]*9, 12, p=10)\n",
    "except IndexError as i:\n",
    "    print(type(i))\n",
    "    print(i)\n",
    "except ValueError as v:\n",
    "    print(type(v))\n",
    "    print(v)\n",
    "except TypeError as t:\n",
    "    print(type(t))\n",
    "    print(t)\n",
    "except KeyError as k:\n",
    "    print(type(k))\n",
    "    print(k)\n",
    "except ZeroDivisionError as z:\n",
    "    print(type(z))\n",
    "    print(z)\n",
    "else:\n",
    "    print(\"Result:\", res)\n",
    "finally:\n",
    "    print(\"Thank you\")"
   ]
  },
  {
   "cell_type": "code",
   "execution_count": 2,
   "id": "6f5c991f",
   "metadata": {},
   "outputs": [
    {
     "ename": "IndexError",
     "evalue": "list assignment index out of range",
     "output_type": "error",
     "traceback": [
      "\u001b[1;31m---------------------------------------------------------------------------\u001b[0m",
      "\u001b[1;31mIndexError\u001b[0m                                Traceback (most recent call last)",
      "Cell \u001b[1;32mIn[2], line 1\u001b[0m\n\u001b[1;32m----> 1\u001b[0m function([\u001b[38;5;241m1\u001b[39m,\u001b[38;5;241m2\u001b[39m,\u001b[38;5;241m1\u001b[39m], \u001b[38;5;241m12\u001b[39m)\n\u001b[0;32m      2\u001b[0m function([\u001b[38;5;241m1\u001b[39m,\u001b[38;5;241m2\u001b[39m,\u001b[38;5;241m1\u001b[39m]\u001b[38;5;241m*\u001b[39m\u001b[38;5;241m9\u001b[39m, \u001b[38;5;124m'\u001b[39m\u001b[38;5;124m1-2\u001b[39m\u001b[38;5;124m'\u001b[39m)\n\u001b[0;32m      3\u001b[0m function([\u001b[38;5;241m1\u001b[39m,\u001b[38;5;124m'\u001b[39m\u001b[38;5;124m2\u001b[39m\u001b[38;5;124m'\u001b[39m,\u001b[38;5;241m1\u001b[39m]\u001b[38;5;241m*\u001b[39m\u001b[38;5;241m9\u001b[39m, \u001b[38;5;241m12\u001b[39m)\n",
      "Cell \u001b[1;32mIn[1], line 6\u001b[0m, in \u001b[0;36mfunction\u001b[1;34m(l, s, **args)\u001b[0m\n\u001b[0;32m      3\u001b[0m \u001b[38;5;28;01mdef\u001b[39;00m \u001b[38;5;21mfunction\u001b[39m(l: \u001b[38;5;28mlist\u001b[39m, s, \u001b[38;5;241m*\u001b[39m\u001b[38;5;241m*\u001b[39margs):\n\u001b[0;32m      4\u001b[0m     last_element \u001b[38;5;241m=\u001b[39m l[\u001b[38;5;241m-\u001b[39m\u001b[38;5;241m1\u001b[39m]\n\u001b[1;32m----> 6\u001b[0m     l[\u001b[38;5;28mint\u001b[39m(s)]\u001b[38;5;241m=\u001b[39m\u001b[38;5;241m10\u001b[39m\n\u001b[0;32m      7\u001b[0m     any_element \u001b[38;5;241m=\u001b[39m l[\u001b[38;5;28mint\u001b[39m(s)\u001b[38;5;241m+\u001b[39m\u001b[38;5;241m10\u001b[39m]\n\u001b[0;32m      8\u001b[0m     l[s]\u001b[38;5;241m=\u001b[39m\u001b[38;5;241m10\u001b[39m\n",
      "\u001b[1;31mIndexError\u001b[0m: list assignment index out of range"
     ]
    }
   ],
   "source": [
    "function([1,2,1], 12)\n",
    "function([1,2,1]*9, '1-2')\n",
    "function([1,'2',1]*9, 12)\n",
    "function([1,'2',1]*9, 12)\n",
    "function([1,2,0]*9, 12  )\n",
    "function([1,2,1]*9, 12, p=None)\n",
    "function([1,2,0]*9, 12, p=10)"
   ]
  },
  {
   "cell_type": "code",
   "execution_count": 6,
   "id": "3b0a8702",
   "metadata": {},
   "outputs": [
    {
     "name": "stdout",
     "output_type": "stream",
     "text": [
      "nhi fta\n"
     ]
    }
   ],
   "source": [
    "try:\n",
    "    with open('sample.txt','w') as f:\n",
    "        f.write('ye to ftega')\n",
    "        \n",
    "except IOError:\n",
    "    print('le bhai fat gya ')\n",
    "else:\n",
    "    print('nhi fta')"
   ]
  },
  {
   "cell_type": "code",
   "execution_count": 4,
   "id": "6fbf384b",
   "metadata": {},
   "outputs": [
    {
     "name": "stdout",
     "output_type": "stream",
     "text": [
      "Enter a number:6\n",
      "Input value is too small\n",
      "Enter a number:89\n",
      "Input value is too large\n",
      "Enter a number:13\n",
      "Input value is too small\n",
      "Enter a number:0\n",
      "Guess the number between 1 and 100\n",
      "Enter a number:24\n",
      "Input value is too small\n",
      "Enter a number:5\n",
      "Input value is too small\n",
      "Enter a number:6\n",
      "Input value is too small\n",
      "Enter a number:\n"
     ]
    },
    {
     "ename": "ValueError",
     "evalue": "invalid literal for int() with base 10: ''",
     "output_type": "error",
     "traceback": [
      "\u001b[1;31m---------------------------------------------------------------------------\u001b[0m",
      "\u001b[1;31mValueError\u001b[0m                                Traceback (most recent call last)",
      "Cell \u001b[1;32mIn[4], line 16\u001b[0m\n\u001b[0;32m     14\u001b[0m \u001b[38;5;28;01mwhile\u001b[39;00m \u001b[38;5;241m1\u001b[39m:\n\u001b[0;32m     15\u001b[0m     \u001b[38;5;28;01mtry\u001b[39;00m:\n\u001b[1;32m---> 16\u001b[0m         guess \u001b[38;5;241m=\u001b[39m \u001b[38;5;28mint\u001b[39m(\u001b[38;5;28minput\u001b[39m(\u001b[38;5;124m\"\u001b[39m\u001b[38;5;124mEnter a number:\u001b[39m\u001b[38;5;124m\"\u001b[39m))\n\u001b[0;32m     18\u001b[0m         \u001b[38;5;28;01mif\u001b[39;00m guess \u001b[38;5;241m<\u001b[39m \u001b[38;5;241m1\u001b[39m:\n\u001b[0;32m     19\u001b[0m             \u001b[38;5;28;01mraise\u001b[39;00m GuessError\n",
      "\u001b[1;31mValueError\u001b[0m: invalid literal for int() with base 10: ''"
     ]
    }
   ],
   "source": [
    "import random\n",
    "class ValueTooLarge(Exception):\n",
    "    def display(self):\n",
    "        print(\"Input value is too large\")\n",
    "\n",
    "class ValueTooSmall(Exception):\n",
    "    def display(self):\n",
    "        print(\"Input value is too small\")\n",
    "    \n",
    "class GuessError(Exception):\n",
    "    def display(self):\n",
    "        print(\"Guess the number between 1 and 100\")\n",
    "num=random.randint(1,100)\n",
    "while 1:\n",
    "    try:\n",
    "        guess = int(input(\"Enter a number:\"))\n",
    "\n",
    "        if guess < 1:\n",
    "            raise GuessError\n",
    "\n",
    "        if guess == num:\n",
    "            print(\"Great You succeeded...\")\n",
    "            break\n",
    "        if guess < num:\n",
    "            raise ValueTooSmall\n",
    "        if guess > num:\n",
    "            raise ValueTooLarge\n",
    "    except ValueTooSmall as s:\n",
    "        s.display()\n",
    "    except ValueTooLarge as l:\n",
    "        l.display()\n",
    "    except GuessError as g:\n",
    "        g.display()\n",
    "\n"
   ]
  },
  {
   "cell_type": "code",
   "execution_count": 8,
   "id": "a4cd1188",
   "metadata": {},
   "outputs": [
    {
     "name": "stdout",
     "output_type": "stream",
     "text": [
      "Enter your name: tarun kumar\n",
      "Enter your age: 13\n",
      "Sorry!! Age cannot be below 18. Please come after that\n",
      "Thank You\n"
     ]
    }
   ],
   "source": [
    "# Write code here\n",
    "class InvalidAge(Exception):\n",
    "    def display(self):\n",
    "        print(\"Sorry!! Age cannot be below 18. Please come after that\")\n",
    "class InvalidName(Exception):\n",
    "    def display(self):\n",
    "        print(\"Please enter a valid name...\")\n",
    "try:\n",
    "    name = input(\"Enter your name: \")\n",
    "    if len(name) == 0 or len(name.split()) < 2:\n",
    "        raise InvalidName\n",
    "\n",
    "    age = int(input(\"Enter your age: \"))\n",
    "    if age < 18:\n",
    "        raise InvalidAge\n",
    "except InvalidName as i:\n",
    "    i.display()\n",
    "except InvalidAge as a:\n",
    "    a.display()\n",
    "else:\n",
    "    print(\"Your vote is accepted successfully\")\n",
    "finally:\n",
    "    print(\"Thank You\")"
   ]
  },
  {
   "cell_type": "code",
   "execution_count": 11,
   "id": "4469ca27",
   "metadata": {},
   "outputs": [
    {
     "name": "stdout",
     "output_type": "stream",
     "text": [
      "2 3 4 5 6 7 8 9 10 11 12 13 14 15 16 17 18 19 20 21 "
     ]
    }
   ],
   "source": [
    "# Write code here\n",
    "def display(n):\n",
    "    i=0\n",
    "    while True:\n",
    "        try:\n",
    "            n+=1\n",
    "            i+=1\n",
    "            if i==21:\n",
    "                raise StopIteration\n",
    "        except StopIteration:\n",
    "            break\n",
    "        else:\n",
    "            print(n, end =' ')\n",
    "display(1)\n",
    "            "
   ]
  },
  {
   "cell_type": "code",
   "execution_count": null,
   "id": "5ba8cad7",
   "metadata": {},
   "outputs": [],
   "source": []
  }
 ],
 "metadata": {
  "kernelspec": {
   "display_name": "Python 3 (ipykernel)",
   "language": "python",
   "name": "python3"
  },
  "language_info": {
   "codemirror_mode": {
    "name": "ipython",
    "version": 3
   },
   "file_extension": ".py",
   "mimetype": "text/x-python",
   "name": "python",
   "nbconvert_exporter": "python",
   "pygments_lexer": "ipython3",
   "version": "3.11.5"
  }
 },
 "nbformat": 4,
 "nbformat_minor": 5
}
