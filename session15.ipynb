{
 "cells": [
  {
   "cell_type": "markdown",
   "id": "c19275d1",
   "metadata": {},
   "source": [
    "# Q-1: Create a random 3x4 matrix with value between 0-100. And perform below tasks"
   ]
  },
  {
   "cell_type": "code",
   "execution_count": 6,
   "id": "88814965",
   "metadata": {},
   "outputs": [
    {
     "name": "stdout",
     "output_type": "stream",
     "text": [
      "[[ 5 94 11]\n",
      " [10 43 33]\n",
      " [72 48 16]\n",
      " [50 44 85]]\n",
      "[[ 5 11 94]\n",
      " [10 33 43]\n",
      " [16 48 72]\n",
      " [44 50 85]]\n",
      "[[10 43 33]\n",
      " [50 44 85]\n",
      " [72 48 16]\n",
      " [ 5 94 11]]\n",
      "[[10 43 33]\n",
      " [72 48 16]\n",
      " [50 44 85]\n",
      " [ 5 94 11]]\n",
      "[[ 5 10 11]\n",
      " [16 33 43]\n",
      " [44 48 50]\n",
      " [72 85 94]]\n"
     ]
    }
   ],
   "source": [
    "arr=np.random.randint(0,100,(4,3))\n",
    "print(arr)\n",
    "print(np.sort(arr))\n",
    "print(arr[arr[:,1].argsort()])\n",
    "print(np.array(sorted(arr, key = lambda x: max(x))))\n",
    "#4\n",
    "print(np.sort(arr, axis = None).reshape(4,3))\n"
   ]
  },
  {
   "cell_type": "code",
   "execution_count": 2,
   "id": "a70506c0",
   "metadata": {},
   "outputs": [],
   "source": [
    "import numpy as np"
   ]
  },
  {
   "cell_type": "markdown",
   "id": "bd9727ba",
   "metadata": {},
   "source": [
    "# Q-2: There is an array of marks of 5 students in 4 subjects. Further you are asked to perform below task."
   ]
  },
  {
   "cell_type": "code",
   "execution_count": 7,
   "id": "ec3bf4eb",
   "metadata": {},
   "outputs": [],
   "source": [
    "arr = np.array([[1,2,3,3,1,1],\n",
    "                [0,9,1,2,8,8],\n",
    "                [1,2,3,8,8,8],\n",
    "                [1,2,3,3,1,1]])"
   ]
  },
  {
   "cell_type": "code",
   "execution_count": 8,
   "id": "a1f5bb9f",
   "metadata": {},
   "outputs": [
    {
     "data": {
      "text/plain": [
       "array([[0, 9, 1, 2, 8, 8],\n",
       "       [1, 2, 3, 3, 1, 1],\n",
       "       [1, 2, 3, 8, 8, 8]])"
      ]
     },
     "execution_count": 8,
     "metadata": {},
     "output_type": "execute_result"
    }
   ],
   "source": [
    "np.unique(arr,axis=0)"
   ]
  },
  {
   "cell_type": "code",
   "execution_count": 9,
   "id": "bae9b235",
   "metadata": {},
   "outputs": [
    {
     "data": {
      "text/plain": [
       "array([[1, 1, 2, 3, 3],\n",
       "       [0, 8, 9, 1, 2],\n",
       "       [1, 8, 2, 3, 8],\n",
       "       [1, 1, 2, 3, 3]])"
      ]
     },
     "execution_count": 9,
     "metadata": {},
     "output_type": "execute_result"
    }
   ],
   "source": [
    "np.unique(arr,axis=1)"
   ]
  },
  {
   "cell_type": "code",
   "execution_count": 10,
   "id": "c4595017",
   "metadata": {},
   "outputs": [],
   "source": [
    "arr = np.array([[1,2,3,3,1,1],\n",
    "               [0,9,1,2,8,8],\n",
    "               [1,2,3,8,8,8],\n",
    "               [1,2,3,3,1,1],\n",
    "               [0,6,1,2,11,7],\n",
    "               [10,19,14,-2,8,-1]])"
   ]
  },
  {
   "cell_type": "code",
   "execution_count": 11,
   "id": "4a0f68da",
   "metadata": {},
   "outputs": [
    {
     "data": {
      "text/plain": [
       "array([[-1,  8, -2, 14, 19, 10],\n",
       "       [ 7, 11,  2,  1,  6,  0],\n",
       "       [ 1,  1,  3,  3,  2,  1],\n",
       "       [ 8,  8,  8,  3,  2,  1],\n",
       "       [ 8,  8,  2,  1,  9,  0],\n",
       "       [ 1,  1,  3,  3,  2,  1]])"
      ]
     },
     "execution_count": 11,
     "metadata": {},
     "output_type": "execute_result"
    }
   ],
   "source": [
    "np.flip(arr,axis=[0,1])"
   ]
  },
  {
   "cell_type": "markdown",
   "id": "653325fe",
   "metadata": {},
   "source": [
    "# Get row numbers of NumPy array having element larger than X."
   ]
  },
  {
   "cell_type": "code",
   "execution_count": 14,
   "id": "a21eccb3",
   "metadata": {},
   "outputs": [
    {
     "ename": "TypeError",
     "evalue": "'>' not supported between instances of 'list' and 'int'",
     "output_type": "error",
     "traceback": [
      "\u001b[1;31m---------------------------------------------------------------------------\u001b[0m",
      "\u001b[1;31mTypeError\u001b[0m                                 Traceback (most recent call last)",
      "Cell \u001b[1;32mIn[14], line 8\u001b[0m\n\u001b[0;32m      1\u001b[0m arr \u001b[38;5;241m=\u001b[39m [[\u001b[38;5;241m1\u001b[39m,\u001b[38;5;241m2\u001b[39m,\u001b[38;5;241m3\u001b[39m,\u001b[38;5;241m4\u001b[39m,\u001b[38;5;241m5\u001b[39m], \n\u001b[0;32m      2\u001b[0m       [\u001b[38;5;241m10\u001b[39m,\u001b[38;5;241m-\u001b[39m\u001b[38;5;241m3\u001b[39m,\u001b[38;5;241m30\u001b[39m,\u001b[38;5;241m4\u001b[39m,\u001b[38;5;241m5\u001b[39m], \n\u001b[0;32m      3\u001b[0m       [\u001b[38;5;241m3\u001b[39m,\u001b[38;5;241m2\u001b[39m,\u001b[38;5;241m5\u001b[39m,\u001b[38;5;241m-\u001b[39m\u001b[38;5;241m4\u001b[39m,\u001b[38;5;241m5\u001b[39m], \n\u001b[0;32m      4\u001b[0m       [\u001b[38;5;241m9\u001b[39m,\u001b[38;5;241m7\u001b[39m,\u001b[38;5;241m3\u001b[39m,\u001b[38;5;241m6\u001b[39m,\u001b[38;5;241m5\u001b[39m]] \n\u001b[0;32m      6\u001b[0m X \u001b[38;5;241m=\u001b[39m \u001b[38;5;241m6\u001b[39m\n\u001b[1;32m----> 8\u001b[0m np\u001b[38;5;241m.\u001b[39many(np\u001b[38;5;241m.\u001b[39many(arr \u001b[38;5;241m>\u001b[39mX, axis \u001b[38;5;241m=\u001b[39m \u001b[38;5;241m1\u001b[39m))\n",
      "\u001b[1;31mTypeError\u001b[0m: '>' not supported between instances of 'list' and 'int'"
     ]
    }
   ],
   "source": [
    "arr = [[1,2,3,4,5], \n",
    "      [10,-3,30,4,5], \n",
    "      [3,2,5,-4,5], \n",
    "      [9,7,3,6,5]] \n",
    "\n",
    "X = 6\n",
    "\n",
    "np.any(np.any(arr >X, axis = 1))"
   ]
  },
  {
   "cell_type": "code",
   "execution_count": 16,
   "id": "289ea5b8",
   "metadata": {},
   "outputs": [
    {
     "data": {
      "text/plain": [
       "array([0, 1, 2, 3, 4, 5, 6, 7, 8, 9])"
      ]
     },
     "execution_count": 16,
     "metadata": {},
     "output_type": "execute_result"
    }
   ],
   "source": [
    "# These arrays are given.\n",
    "arr1 = np.arange(3)\n",
    "arr2 = np.arange(3,7)\n",
    "arr3 = np.arange(7,10)\n",
    "\n",
    "np.concatenate([arr1, arr2, arr3])"
   ]
  },
  {
   "cell_type": "code",
   "execution_count": null,
   "id": "73803a7c",
   "metadata": {},
   "outputs": [],
   "source": []
  }
 ],
 "metadata": {
  "kernelspec": {
   "display_name": "Python 3 (ipykernel)",
   "language": "python",
   "name": "python3"
  },
  "language_info": {
   "codemirror_mode": {
    "name": "ipython",
    "version": 3
   },
   "file_extension": ".py",
   "mimetype": "text/x-python",
   "name": "python",
   "nbconvert_exporter": "python",
   "pygments_lexer": "ipython3",
   "version": "3.11.5"
  }
 },
 "nbformat": 4,
 "nbformat_minor": 5
}
