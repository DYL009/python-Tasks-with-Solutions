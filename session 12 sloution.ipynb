{
 "cells": [
  {
   "cell_type": "code",
   "execution_count": 1,
   "id": "0454c297",
   "metadata": {},
   "outputs": [
    {
     "name": "stdout",
     "output_type": "stream",
     "text": [
      "__module__\n",
      "__init__\n",
      "set_city\n",
      "get_city\n",
      "set_age\n",
      "get_age\n",
      "address\n",
      "__dict__\n",
      "__weakref__\n",
      "__doc__\n"
     ]
    }
   ],
   "source": [
    "#Write your code here\n",
    "class Person:\n",
    "    def __init__(self, name, state):\n",
    "        self.name = name\n",
    "        self.state = state\n",
    "        self.__city = None\n",
    "        self.__age = None\n",
    "    def set_city(self, city):\n",
    "        self.__city = city\n",
    "    def get_city(self):\n",
    "        return self.__city\n",
    "    def set_age(self, age):\n",
    "        self.__age = age\n",
    "    def get_age(self):\n",
    "        return self.__age\n",
    "    def address(self):\n",
    "        return f'{self.name}, {self.__city}, {self.state}'\n",
    "\n",
    "for i in Person.__dict__:\n",
    "    print(i)"
   ]
  },
  {
   "cell_type": "code",
   "execution_count": 5,
   "id": "6bfead4e",
   "metadata": {},
   "outputs": [
    {
     "name": "stdout",
     "output_type": "stream",
     "text": [
      "Address:  ds, None, kaller\n",
      "name\n",
      "state\n",
      "_Person__city\n",
      "_Person__age\n",
      "set_city\n"
     ]
    }
   ],
   "source": [
    "p=Person('ds','kaller')\n",
    "p.set_city=('blp')\n",
    "p.set_age(40)\n",
    "print(\"Address: \", p.address())\n",
    "\n",
    "for i in p.__dict__:\n",
    "    print(i)"
   ]
  },
  {
   "cell_type": "code",
   "execution_count": 6,
   "id": "4e531d7a",
   "metadata": {},
   "outputs": [
    {
     "name": "stdout",
     "output_type": "stream",
     "text": [
      "5 2\n"
     ]
    }
   ],
   "source": [
    "counter = 0\n",
    "def gcd(a,b):\n",
    "    global counter\n",
    "    counter += 1\n",
    "    if b == 0:\n",
    "        return a\n",
    "    else:\n",
    "        return gcd(b, a%b)\n",
    "print(gcd(10, 5), counter)\n",
    "    "
   ]
  },
  {
   "cell_type": "code",
   "execution_count": null,
   "id": "1cd60027",
   "metadata": {},
   "outputs": [],
   "source": []
  },
  {
   "cell_type": "code",
   "execution_count": null,
   "id": "78666215",
   "metadata": {},
   "outputs": [],
   "source": []
  },
  {
   "cell_type": "code",
   "execution_count": null,
   "id": "a4014c4b",
   "metadata": {},
   "outputs": [],
   "source": []
  }
 ],
 "metadata": {
  "kernelspec": {
   "display_name": "Python 3 (ipykernel)",
   "language": "python",
   "name": "python3"
  },
  "language_info": {
   "codemirror_mode": {
    "name": "ipython",
    "version": 3
   },
   "file_extension": ".py",
   "mimetype": "text/x-python",
   "name": "python",
   "nbconvert_exporter": "python",
   "pygments_lexer": "ipython3",
   "version": "3.11.5"
  }
 },
 "nbformat": 4,
 "nbformat_minor": 5
}
