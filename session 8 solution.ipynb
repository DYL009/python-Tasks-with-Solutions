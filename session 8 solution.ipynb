{
 "cells": [
  {
   "cell_type": "code",
   "execution_count": 5,
   "id": "01e25cf5",
   "metadata": {},
   "outputs": [
    {
     "name": "stdout",
     "output_type": "stream",
     "text": [
      "6\n"
     ]
    }
   ],
   "source": [
    "# Count number of instances of a class created in Python?\n",
    "class Car:\n",
    "    __counter=0\n",
    "    def __init__(self):\n",
    "        Car.__counter+=1\n",
    "    def get_counter():\n",
    "        return Car.__counter\n",
    "o1=Car()\n",
    "o2=Car()\n",
    "o3=Car()\n",
    "o4=Car()\n",
    "o5=Car()\n",
    "o6=Car()\n",
    "print(Car.get_counter())\n",
    "        \n",
    "    "
   ]
  },
  {
   "cell_type": "code",
   "execution_count": 7,
   "id": "cf5bb6b5",
   "metadata": {},
   "outputs": [
    {
     "name": "stdout",
     "output_type": "stream",
     "text": [
      "Spades->5\n",
      "Clubs->4\n",
      "Cards left50\n"
     ]
    }
   ],
   "source": [
    "import random\n",
    "class Card:\n",
    "    def __init__(self,suit,value):\n",
    "        self.suit=suit\n",
    "        self.value=value\n",
    "        \n",
    "    def __repr__(self):\n",
    "        return'{}->{}'.format(self.suit,self.value)\n",
    "class Deck:\n",
    "    def __init__(self):\n",
    "        suits=['Hearts', 'Diamonds', 'Clubs', 'Spades']\n",
    "        values=['A','2','3','4','5','6','7','8','9','10','J','K','Q']\n",
    "        self.cards=[Card(suit,value) for suit in suits for value in values]\n",
    "    def __str__(self):\n",
    "        return 'Cards left'+ str(len(self.cards))\n",
    "        \n",
    "    def shuffle(self):\n",
    "        if len(self.cards) < 52:\n",
    "            print('all cards')\n",
    "        else:\n",
    "            random.shuffle(self.cards)\n",
    "        return self.cards\n",
    "    def deal(self):\n",
    "        if len(self.cards)==0:\n",
    "            print('all cards are deals')\n",
    "        return self.cards.pop()\n",
    "        \n",
    "deck=Deck()\n",
    "deck.shuffle()\n",
    "print(deck.deal())\n",
    "print(deck.deal())\n",
    "print(deck)"
   ]
  },
  {
   "cell_type": "code",
   "execution_count": 3,
   "id": "795ce7e1",
   "metadata": {},
   "outputs": [
    {
     "name": "stdout",
     "output_type": "stream",
     "text": [
      "construtor\n"
     ]
    }
   ],
   "source": [
    "class Rectangle:\n",
    "    def __init__(self,l,b):\n",
    "        self.length=l\n",
    "        self.breadth=b\n",
    "    @classmethod\n",
    "    def property(cls,len,bre):\n",
    "        return cls(len,bre)\n",
    "    def area(self):\n",
    "        reuturn (len,bre)\n",
    "    def is_square(self):\n",
    "        retrurn True if self.lenth==self.breadth\n",
    "r=Rectangle.property(4,5)\n",
    "    \n",
    "    \n",
    "    "
   ]
  },
  {
   "cell_type": "code",
   "execution_count": null,
   "id": "1ed31cfe",
   "metadata": {},
   "outputs": [],
   "source": [
    "#problem6\n",
    "\n",
    "\n",
    "        "
   ]
  }
 ],
 "metadata": {
  "kernelspec": {
   "display_name": "Python 3 (ipykernel)",
   "language": "python",
   "name": "python3"
  },
  "language_info": {
   "codemirror_mode": {
    "name": "ipython",
    "version": 3
   },
   "file_extension": ".py",
   "mimetype": "text/x-python",
   "name": "python",
   "nbconvert_exporter": "python",
   "pygments_lexer": "ipython3",
   "version": "3.11.5"
  }
 },
 "nbformat": 4,
 "nbformat_minor": 5
}
