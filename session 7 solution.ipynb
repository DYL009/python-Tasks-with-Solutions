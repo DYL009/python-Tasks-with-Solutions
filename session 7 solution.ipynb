{
 "cells": [
  {
   "cell_type": "code",
   "execution_count": 13,
   "id": "2fa5383b",
   "metadata": {},
   "outputs": [
    {
     "name": "stdout",
     "output_type": "stream",
     "text": [
      "length 4\n",
      "width 5\n",
      "perimeter 18\n",
      "area 20\n"
     ]
    }
   ],
   "source": [
    "#problem1\n",
    "class Rectangle:\n",
    "    def __init__(self,l,b):\n",
    "        self.__length=l\n",
    "        self.__width=b\n",
    "    def __perimeter(self):\n",
    "        return 2*(self.__length +self.__width)\n",
    " \n",
    "    def __area(self):\n",
    "        return self.__length * self.__width\n",
    "    def display(self):\n",
    "        print('length',self.__length)\n",
    "        print('width',self.__width)\n",
    "        print('perimeter',self.__perimeter())\n",
    "        print('area',self.__area())\n",
    "obj=Rectangle(4,5)\n",
    "obj.display()        \n",
    "        \n"
   ]
  },
  {
   "cell_type": "code",
   "execution_count": 15,
   "id": "fb9d9d0b",
   "metadata": {},
   "outputs": [
    {
     "name": "stdout",
     "output_type": "stream",
     "text": [
      "Account Number : 1000000\n",
      "Account Name : nitish\n",
      "Account Balance : 1330.0 ₹\n"
     ]
    }
   ],
   "source": [
    "#problem2\n",
    "class Bank:\n",
    "\n",
    "    def __init__(self,name,acc_no,balance):\n",
    "        self.__name = name\n",
    "        self.__acc_no = acc_no\n",
    "        self.__balance = balance\n",
    "\n",
    "    def display(self):\n",
    "        print('Account Number :',self.__acc_no)\n",
    "        print('Account Name :',self.__name)\n",
    "        print('Account Balance :',self.__balance,'₹')\n",
    "\n",
    "    def deposit(self,amount):\n",
    "        self.__balance = self.__balance + amount\n",
    "\n",
    "    def withdrawl(self,amount):\n",
    "        if amount>self.__balance:\n",
    "            print('Insufficient funds')\n",
    "        else:\n",
    "            self.__balance = self.__balance - amount\n",
    "            reduction = self.__bankFees()\n",
    "            self.__balance = self.__balance - reduction\n",
    "            \n",
    "    def __bankFees(self):\n",
    "        return 0.05*self.__balance\n",
    "\n",
    "cust = Bank('nitish',1000000,1000)\n",
    "cust.deposit(500)\n",
    "cust.withdrawl(100)\n",
    "cust.display()\n",
    "\n",
    "        "
   ]
  },
  {
   "cell_type": "code",
   "execution_count": 25,
   "id": "59755ee3",
   "metadata": {},
   "outputs": [
    {
     "name": "stdout",
     "output_type": "stream",
     "text": [
      "False\n"
     ]
    }
   ],
   "source": [
    "class Comutation:\n",
    "    def __init__(self):\n",
    "        pass\n",
    "    def factorial(self,n):\n",
    "        j=1\n",
    "        for i in range(1,n+1):\n",
    "            j=j*1\n",
    "        if (j==2):\n",
    "            return True\n",
    "        else:\n",
    "            return False\n",
    "        \n",
    "c= Comutation()\n"
   ]
  },
  {
   "cell_type": "code",
   "execution_count": 5,
   "id": "ebdd0cbf",
   "metadata": {},
   "outputs": [
    {
     "data": {
      "text/plain": [
       "'tumse naa ho pyega'"
      ]
     },
     "execution_count": 5,
     "metadata": {},
     "output_type": "execute_result"
    }
   ],
   "source": [
    "class Instructor:\n",
    "    def __init__(self,name,technology,experience,fedback):\n",
    "        self.__name=name\n",
    "        self.__technology=technology\n",
    "        self.__experience=experience\n",
    "        self.__fedback=fedback\n",
    "    def check_egilibility(self):\n",
    "        if self.__experience>3 and self.__fedback>=4.5:\n",
    "            return True\n",
    "        elif self.__experience<=3 and self.__fedback>=4:\n",
    "            return True\n",
    "        else:\n",
    "            return False\n",
    "    def allocate_course(self,tech):\n",
    "        is_eligible=self.check_egilibility()\n",
    "        if is_eligible:\n",
    "            if tech in self.__technology:\n",
    "                return \"pda skta hai\"\n",
    "            else:\n",
    "                return 'tumse naa ho pyega'\n",
    "        else:\n",
    "            return 'tum to chaa gye'\n",
    "ins=Instructor('ds',['data science','video'],5,4.5)\n",
    "ins.allocate_course('and')\n",
    "        "
   ]
  },
  {
   "cell_type": "code",
   "execution_count": null,
   "id": "385c4874",
   "metadata": {},
   "outputs": [],
   "source": []
  }
 ],
 "metadata": {
  "kernelspec": {
   "display_name": "Python 3 (ipykernel)",
   "language": "python",
   "name": "python3"
  },
  "language_info": {
   "codemirror_mode": {
    "name": "ipython",
    "version": 3
   },
   "file_extension": ".py",
   "mimetype": "text/x-python",
   "name": "python",
   "nbconvert_exporter": "python",
   "pygments_lexer": "ipython3",
   "version": "3.11.5"
  }
 },
 "nbformat": 4,
 "nbformat_minor": 5
}
